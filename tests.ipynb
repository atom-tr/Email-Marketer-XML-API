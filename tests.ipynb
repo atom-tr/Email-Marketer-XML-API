{
 "cells": [
  {
   "cell_type": "markdown",
   "metadata": {},
   "source": [
    "# Stats \n",
    "\n",
    "`.hidden` file is used to store api key and other sensitive data.\n",
    "\n",
    "```json\n",
    "{\n",
    "\t\"url\": \"http://www.yourdomain.com/IEM/xml.php\",\n",
    "\t\"username\": \"demo\",\n",
    "\t\"token\": \"\"\n",
    "}\n",
    "```"
   ]
  },
  {
   "cell_type": "code",
   "execution_count": 50,
   "metadata": {},
   "outputs": [
    {
     "name": "stdout",
     "output_type": "stream",
     "text": [
      "Error\n"
     ]
    }
   ],
   "source": [
    "import json\n",
    "from pprint import pprint\n",
    "from python_XMLApi.stats import Stats_API\n",
    "from python_XMLApi.lists import *\n",
    "\n",
    "auth = json.load(open('.hidden'))\n",
    "\n",
    "stats = Stats_API(auth['url'], auth['username'], auth['token'])\n",
    "Sum = stats.GetUserNewsletterStats(93)\n",
    "if Sum:\n",
    "\tif Sum['issuccess']:\n",
    "\t\tpprint(Sum['data'])\n",
    "\telse:\n",
    "\t\tprint(Sum['message'])\n",
    "else:\n",
    "\tprint('Error')"
   ]
  },
  {
   "cell_type": "code",
   "execution_count": 3,
   "metadata": {},
   "outputs": [
    {
     "name": "stdout",
     "output_type": "stream",
     "text": [
      "False\n",
      "10729459\n"
     ]
    }
   ],
   "source": [
    "import json\n",
    "from pprint import pprint\n",
    "from python_XMLApi.subscribers import *\n",
    "auth = json.load(open('.hidden'))\n",
    "stats = Subscribers_API(auth['url'], auth['username'], auth['token'])\n",
    "\n",
    "print(stats.get_Subscriber_id(1488, 'thai.tr@hotmail.com'))\n",
    "print(stats.get_Subscriber_id(1488, 'anton.thaitran@gmail.com'))"
   ]
  },
  {
   "cell_type": "code",
   "execution_count": 8,
   "metadata": {},
   "outputs": [
    {
     "name": "stdout",
     "output_type": "stream",
     "text": [
      "None\n"
     ]
    }
   ],
   "source": [
    "import json\n",
    "from pprint import pprint\n",
    "from python_XMLApi.newsletters import *\n",
    "auth = json.load(open('.hidden'))\n",
    "stats = Newsletters_API(auth['url'], auth['username'], auth['token'])\n",
    "\n",
    "print(stats.GetLiveNewsletters(ownerid=93))"
   ]
  }
 ],
 "metadata": {
  "interpreter": {
   "hash": "c731a3b83537d4df20197f92fedace356b400db4a0879eee31e0ca66d7177ab9"
  },
  "kernelspec": {
   "display_name": "Python 3.9.2 64-bit",
   "language": "python",
   "name": "python3"
  },
  "language_info": {
   "codemirror_mode": {
    "name": "ipython",
    "version": 3
   },
   "file_extension": ".py",
   "mimetype": "text/x-python",
   "name": "python",
   "nbconvert_exporter": "python",
   "pygments_lexer": "ipython3",
   "version": "3.9.2"
  },
  "orig_nbformat": 4
 },
 "nbformat": 4,
 "nbformat_minor": 2
}
