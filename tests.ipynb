{
 "cells": [
  {
   "cell_type": "markdown",
   "metadata": {},
   "source": [
    "# Stats \n",
    "\n",
    "`.hidden` file is used to store api key and other sensitive data.\n",
    "\n",
    "```json\n",
    "{\n",
    "\t\"url\": \"http://www.yourdomain.com/IEM/xml.php\",\n",
    "\t\"username\": \"demo\",\n",
    "\t\"token\": \"\"\n",
    "}\n",
    "```"
   ]
  },
  {
   "cell_type": "code",
   "execution_count": 50,
   "metadata": {},
   "outputs": [
    {
     "name": "stdout",
     "output_type": "stream",
     "text": [
      "Error\n"
     ]
    }
   ],
   "source": [
    "import json\n",
    "from pprint import pprint\n",
    "from python_XMLApi.stats import Stats_API\n",
    "from python_XMLApi.lists import *\n",
    "\n",
    "auth = json.load(open('.hidden'))\n",
    "\n",
    "stats = Stats_API(auth['url'], auth['username'], auth['token'])\n",
    "Sum = stats.GetUserNewsletterStats(93)\n",
    "if Sum:\n",
    "\tif Sum['issuccess']:\n",
    "\t\tpprint(Sum['data'])\n",
    "\telse:\n",
    "\t\tprint(Sum['message'])\n",
    "else:\n",
    "\tprint('Error')"
   ]
  },
  {
   "cell_type": "code",
   "execution_count": 3,
   "metadata": {},
   "outputs": [
    {
     "name": "stdout",
     "output_type": "stream",
     "text": [
      "False\n",
      "10729459\n"
     ]
    }
   ],
   "source": [
    "import json\n",
    "from pprint import pprint\n",
    "from python_XMLApi.subscribers import *\n",
    "auth = json.load(open('.hidden'))\n",
    "stats = Subscribers_API(auth['url'], auth['username'], auth['token'])\n",
    "\n",
    "print(stats.get_Subscriber_id(1488, 'thai.tr@hotmail.com'))\n",
    "print(stats.get_Subscriber_id(1488, 'anton.thaitran@gmail.com'))"
   ]
  },
  {
   "cell_type": "code",
   "execution_count": 3,
   "metadata": {},
   "outputs": [
    {
     "name": "stdout",
     "output_type": "stream",
     "text": [
      "{'data': [{'name': 'Copy of demo', 'newsletterid': '1194', 'subject': 'hello'},\n",
      "          {'name': 'demo', 'newsletterid': '1193', 'subject': 'hello'},\n",
      "          {'name': 'Honda VN | Thư mời Test Link Hội Nghị Khách Hàng lần 2',\n",
      "           'newsletterid': '1195',\n",
      "           'subject': 'Honda VN | Thư mời Test Link Hội Nghị Khách Hàng lần 2'},\n",
      "          {'name': 'Honda VN | Thư mời tham gia Hội Nghị Khách Hàng',\n",
      "           'newsletterid': '1196',\n",
      "           'subject': 'Honda VN | Thư mời tham gia Hội Nghị Khách Hàng'}],\n",
      " 'issuccess': True}\n"
     ]
    }
   ],
   "source": [
    "import json\n",
    "from pprint import pprint\n",
    "from python_XMLApi.newsletters import Newsletters_API\n",
    "auth = json.load(open('.hidden'))\n",
    "mail = Newsletters_API(auth['url'], auth['username'], auth['token'])\n",
    "\n",
    "pprint(mail.GetLiveNewsletters(93))"
   ]
  },
  {
   "cell_type": "code",
   "execution_count": 1,
   "metadata": {},
   "outputs": [
    {
     "data": {
      "text/plain": [
       "'93'"
      ]
     },
     "execution_count": 1,
     "metadata": {},
     "output_type": "execute_result"
    }
   ],
   "source": [
    "import json\n",
    "from pprint import pprint\n",
    "from python_XMLApi.XMLApi import *\n",
    "auth = json.load(open('.hidden'))\n",
    "check = API(auth['url'], auth['username'], auth['token'])\n",
    "\n",
    "check.get_userid()"
   ]
  },
  {
   "cell_type": "code",
   "execution_count": 1,
   "metadata": {},
   "outputs": [
    {
     "name": "stdout",
     "output_type": "stream",
     "text": [
      "{'issuccess': True, 'data': '154146'}\n"
     ]
    }
   ],
   "source": [
    "import json\n",
    "from datetime import datetime\n",
    "from pprint import pprint\n",
    "from python_XMLApi.newsletters import *\n",
    "auth = json.load(open('.hidden'))\n",
    "mail = Campaign(auth['url'], auth['username'], auth['token'])\n",
    "\n",
    "\n",
    "mail.setup_campaign(name = 'test', subject = 'test', htmlbody = '<b>test</b>', textbody = 'test')\n",
    "body = '''\\\n",
    "K&iacute;nh mời qu&yacute; vị tham gia Hội nghị kh&aacute;ch h&agrave;ng 98KI 1H của C&ocirc;ng ty Honda Việt Nam v&agrave;o l&uacute;c 13h ng&agrave;y 23/12/2021 bằng đường link sau đ&acirc;y:&nbsp;<a class=\"text-is-link\" content=\"https://zoom.us/j/98392689362\" target=\"_blank\" href=\"https://zoom.us/j/92847216650\" title=\"Link Hội Nghị Kh&aacute;ch H&agrave;ng\">https://zoom.us/j/92847216650</a>\n",
    "'''\n",
    "mail.campaign['htmlbody'] = body\n",
    "# new = mail.create()\n",
    "# # 1217\n",
    "# print(new)\n",
    "import time\n",
    "mail.setup_job(SendFromName = 'Thai', SendFromEmail = 'thai.tv@hcmc.netnam.vn', ReplyToEmail = 'thai.tv@netnam.vn', BounceEmail = 'bounce@hcmc.netnam.vn')\n",
    "send = mail.send( fkid= 1221, lists=[1486, 1493])\n",
    "print(send)\n",
    "# 153916"
   ]
  },
  {
   "cell_type": "code",
   "execution_count": 2,
   "metadata": {},
   "outputs": [
    {
     "name": "stdout",
     "output_type": "stream",
     "text": [
      "2022-01-18 13:28:58.516288\n",
      "1642487338.5172946\n"
     ]
    }
   ],
   "source": [
    "from datetime import datetime\n",
    "\n",
    "print(datetime.now())\n",
    "\n",
    "from time import time\n",
    "print(time())"
   ]
  },
  {
   "cell_type": "code",
   "execution_count": 3,
   "metadata": {},
   "outputs": [
    {
     "data": {
      "text/plain": [
       "{'a': 2, 'b': 2}"
      ]
     },
     "execution_count": 3,
     "metadata": {},
     "output_type": "execute_result"
    }
   ],
   "source": [
    "a ={'a':1, 'b':2}\n",
    "a.update({'a':2})\n",
    "a"
   ]
  }
 ],
 "metadata": {
  "interpreter": {
   "hash": "c731a3b83537d4df20197f92fedace356b400db4a0879eee31e0ca66d7177ab9"
  },
  "kernelspec": {
   "display_name": "Python 3.9.2 64-bit",
   "language": "python",
   "name": "python3"
  },
  "language_info": {
   "codemirror_mode": {
    "name": "ipython",
    "version": 3
   },
   "file_extension": ".py",
   "mimetype": "text/x-python",
   "name": "python",
   "nbconvert_exporter": "python",
   "pygments_lexer": "ipython3",
   "version": "3.9.2"
  },
  "orig_nbformat": 4
 },
 "nbformat": 4,
 "nbformat_minor": 2
}
