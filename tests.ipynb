{
 "cells": [
  {
   "cell_type": "markdown",
   "metadata": {},
   "source": [
    "# Stats "
   ]
  },
  {
   "cell_type": "code",
   "execution_count": 50,
   "metadata": {},
   "outputs": [
    {
     "name": "stdout",
     "output_type": "stream",
     "text": [
      "Error\n"
     ]
    }
   ],
   "source": [
    "import json\n",
    "from pprint import pprint\n",
    "from python_XMLApi.stats import Stats_API\n",
    "from python_XMLApi.lists import *\n",
    "\n",
    "auth = json.load(open('.hidden'))\n",
    "\n",
    "stats = Stats_API(auth['url'], auth['username'], auth['token'])\n",
    "Sum = stats.GetUserNewsletterStats(93)\n",
    "if Sum:\n",
    "\tif Sum['issuccess']:\n",
    "\t\tpprint(Sum['data'])\n",
    "\telse:\n",
    "\t\tprint(Sum['message'])\n",
    "else:\n",
    "\tprint('Error')"
   ]
  }
 ],
 "metadata": {
  "interpreter": {
   "hash": "c731a3b83537d4df20197f92fedace356b400db4a0879eee31e0ca66d7177ab9"
  },
  "kernelspec": {
   "display_name": "Python 3.9.2 64-bit",
   "language": "python",
   "name": "python3"
  },
  "language_info": {
   "codemirror_mode": {
    "name": "ipython",
    "version": 3
   },
   "file_extension": ".py",
   "mimetype": "text/x-python",
   "name": "python",
   "nbconvert_exporter": "python",
   "pygments_lexer": "ipython3",
   "version": "3.9.2"
  },
  "orig_nbformat": 4
 },
 "nbformat": 4,
 "nbformat_minor": 2
}
